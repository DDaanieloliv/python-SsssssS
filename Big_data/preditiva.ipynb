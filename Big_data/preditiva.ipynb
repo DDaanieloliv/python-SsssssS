{
 "cells": [
  {
   "cell_type": "markdown",
   "metadata": {},
   "source": [
    "\n",
    "# Exemplo 1: Análise preditiva para problemas de classificação\n",
    "\n",
    "Descrição da base de dados:\n",
    "\n",
    "Objetivo: Fazer a predição da reprovação ou aprovação dos alunos"
   ]
  },
  {
   "cell_type": "code",
   "execution_count": null,
   "metadata": {},
   "outputs": [],
   "source": [
    "# bilbiotecas para realizar operações sobre os dados\n",
    "import pandas as pd\n",
    "import numpy as np\n",
    "\n",
    "# bibliotecas de Aprendizagem de máquina\n",
    "from sklearn.model_selection import train_test_split\n",
    "from sklearn.metrics import accuracy_score\n",
    "\n",
    "# Importando as técnicas de aprendizagem (Classificadores)\n",
    "from sklearn.tree import DecisionTreeClassifier #árvore de decisão"
   ]
  },
  {
   "cell_type": "code",
   "execution_count": null,
   "metadata": {},
   "outputs": [],
   "source": [
    "dados = pd.read_csv(\"aprovacao.txt\", sep=',')\n",
    "dados.head(15)"
   ]
  },
  {
   "cell_type": "code",
   "execution_count": null,
   "metadata": {},
   "outputs": [],
   "source": [
    "dados.sample(15)"
   ]
  },
  {
   "cell_type": "code",
   "execution_count": null,
   "metadata": {},
   "outputs": [],
   "source": [
    "dados['aprovacao'].value_counts()"
   ]
  },
  {
   "cell_type": "code",
   "execution_count": null,
   "metadata": {},
   "outputs": [],
   "source": [
    "\n",
    "# Separação aleatória em conjuntos de treino e teste  (Treino = Para etapa de aprendizagem;  Teste = Para avaliar  o desempenho do modelo em novos dados)\n",
    "array = dados.values\n",
    "X = array[:, 0:2].astype(float)  #variáveis explicativas\n",
    "Y = array[:, 2]  #variável resposta\n",
    "tamanho_teste = 0.3\n",
    "tamanho_treino = 0.7\n",
    "\n",
    "np.random.seed(7) #fixar aleatoriedade para reproução\n",
    "X_treino, X_teste, Y_treino, Y_teste = train_test_split(X, Y, train_size=tamanho_treino)"
   ]
  },
  {
   "cell_type": "code",
   "execution_count": null,
   "metadata": {},
   "outputs": [],
   "source": [
    "X_treino.shape"
   ]
  },
  {
   "cell_type": "code",
   "execution_count": null,
   "metadata": {},
   "outputs": [],
   "source": [
    "X_teste.shape"
   ]
  },
  {
   "cell_type": "code",
   "execution_count": null,
   "metadata": {},
   "outputs": [],
   "source": [
    "Y_treino.shape\n"
   ]
  },
  {
   "cell_type": "code",
   "execution_count": null,
   "metadata": {},
   "outputs": [],
   "source": [
    "Y_teste.shape"
   ]
  },
  {
   "cell_type": "markdown",
   "metadata": {},
   "source": [
    "Ao quebrar X e y em X_train, X_test, y_train, y_test, você obterá as seguintes variáveis:\n",
    "\n",
    "- X_treino: atributos dos dados de treino\n",
    "- y_treino: resposta dos  dados de treino\n",
    "- X_teste: atributos dos dados de teste\n",
    "- y_teste: resposta dos dados de teste"
   ]
  },
  {
   "cell_type": "code",
   "execution_count": null,
   "metadata": {},
   "outputs": [],
   "source": [
    "# Treinando modelos\n",
    "# Preparação do modelo 1 =  Árvore de Decisão\n",
    "model1 = DecisionTreeClassifier()\n",
    "model1.fit(X_treino, Y_treino) #FIT() = TREINO"
   ]
  },
  {
   "cell_type": "code",
   "execution_count": null,
   "metadata": {},
   "outputs": [],
   "source": [
    "# Estimativas na base de teste (dados não vistos/futuros)\n",
    "#ACURÁCIA = (VP + VN) / TOTAL DE OBSERVAÇÕES\n",
    "\n",
    "predictions1 = model1.predict(X_teste)\n",
    "print(\"Taxa de Acerto do modelo com Árvore de Decisão = \", round((accuracy_score(Y_teste, predictions1)*100),2),\"%\")\n",
    "\n",
    "print(predictions1)\n"
   ]
  }
 ],
 "metadata": {
  "language_info": {
   "name": "python"
  }
 },
 "nbformat": 4,
 "nbformat_minor": 2
}
