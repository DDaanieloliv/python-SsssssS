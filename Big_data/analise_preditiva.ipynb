{
 "cells": [
  {
   "cell_type": "code",
   "execution_count": null,
   "metadata": {},
   "outputs": [],
   "source": [
    "# bilbiotecas para realizar operações sobre os dados\n",
    "import pandas as pd\n",
    "import numpy as np\n",
    "\n",
    "# bibliotecas de Aprendizagem de máquina\n",
    "from sklearn.model_selection import train_test_split\n",
    "from sklearn.metrics import accuracy_score , precision_score , confusion_matrix\n",
    "\n",
    "# Importando as técnicas de aprendizagem (Classificadores)\n",
    "from sklearn.tree import DecisionTreeClassifier #árvore de decisão\n",
    "from sklearn.ensemble import RandomForestClassifier  # random forest"
   ]
  },
  {
   "cell_type": "code",
   "execution_count": null,
   "metadata": {},
   "outputs": [],
   "source": [
    "dados = pd.read_csv(\"calculo_renal.csv\", sep=',')\n",
    "dados.head(15)"
   ]
  },
  {
   "cell_type": "code",
   "execution_count": null,
   "metadata": {},
   "outputs": [],
   "source": [
    "dados.sample(15)"
   ]
  },
  {
   "cell_type": "code",
   "execution_count": null,
   "metadata": {},
   "outputs": [],
   "source": [
    "dados['saida'].value_counts()"
   ]
  },
  {
   "cell_type": "code",
   "execution_count": null,
   "metadata": {},
   "outputs": [],
   "source": [
    "# Separação aleatória em conjuntos de treino e teste  (Treino = Para etapa de aprendizagem;  Teste = Para avaliar  o desempenho do modelo em novos dados)\n",
    "array = dados.values\n",
    "X = array[:, 0:7].astype(float)  #variáveis explicativas\n",
    "Y = array[:, 7]  #variável resposta\n",
    "tamanho_teste = 0.1\n",
    "tamanho_treino = 0.9\n",
    "\n",
    "np.random.seed(7) #fixar aleatoriedade para reproução\n",
    "X_treino, X_teste, Y_treino, Y_teste = train_test_split(X, Y, train_size=tamanho_treino)"
   ]
  },
  {
   "cell_type": "code",
   "execution_count": null,
   "metadata": {},
   "outputs": [],
   "source": [
    "X_treino.shape"
   ]
  },
  {
   "cell_type": "code",
   "execution_count": null,
   "metadata": {},
   "outputs": [],
   "source": [
    "X_teste.shape"
   ]
  },
  {
   "cell_type": "code",
   "execution_count": null,
   "metadata": {},
   "outputs": [],
   "source": [
    "Y_treino.shape\n"
   ]
  },
  {
   "cell_type": "code",
   "execution_count": null,
   "metadata": {},
   "outputs": [],
   "source": [
    "Y_teste.shape"
   ]
  },
  {
   "cell_type": "code",
   "execution_count": null,
   "metadata": {},
   "outputs": [],
   "source": [
    "# Treinando modelos\n",
    "# Preparação do modelo 1 =  Árvore de Decisão\n",
    "model1 = DecisionTreeClassifier()\n",
    "model1.fit(X_treino, Y_treino) #FIT() = TREINO"
   ]
  },
  {
   "cell_type": "code",
   "execution_count": null,
   "metadata": {},
   "outputs": [],
   "source": [
    "# Estimativas na base de teste (dados não vistos/futuros)\n",
    "#ACURÁCIA = (VP + VN) / TOTAL DE OBSERVAÇÕES\n",
    "\n",
    "predictions1 = model1.predict(X_teste)\n",
    "accuracy1 = accuracy_score(Y_teste, predictions1)\n",
    "precision1 = precision_score(Y_teste, predictions1)\n",
    "\n",
    "print(\"Árvore de Decisão:\")\n",
    "print(\"Taxa de Acerto =\", round(accuracy1 * 100, 2), \"%\")\n",
    "print(\"Precisão =\", round(precision1 * 100, 2), \"%\")\n",
    "\n",
    "# print(\"Taxa de Acerto do modelo com Árvore de Decisão = \", round((accuracy_score(Y_teste, predictions1)*100),2),\"%\")\n",
    "print(predictions1)\n"
   ]
  },
  {
   "cell_type": "code",
   "execution_count": null,
   "metadata": {},
   "outputs": [],
   "source": [
    "# Preparação do modelo 2 = Random Forest\n",
    "model2 = RandomForestClassifier()\n",
    "model2.fit(X_treino, Y_treino)\n"
   ]
  },
  {
   "cell_type": "code",
   "execution_count": null,
   "metadata": {},
   "outputs": [],
   "source": [
    "# Estimativas na base de teste\n",
    "predictions2 = model2.predict(X_teste)\n",
    "accuracy2 = accuracy_score(Y_teste, predictions2)\n",
    "precision2 = precision_score(Y_teste, predictions2)\n",
    "\n",
    "print(\"\\nRandom Forest:\")\n",
    "print(\"Taxa de Acerto =\", round(accuracy2 * 100, 2), \"%\")\n",
    "print(\"Precisão =\", round(precision2 * 100, 2), \"%\")\n",
    "\n",
    "print(predictions2)"
   ]
  },
  {
   "cell_type": "code",
   "execution_count": null,
   "metadata": {},
   "outputs": [],
   "source": [
    "# Comparando as taxas de acerto e precisão\n",
    "if accuracy2 > accuracy1:\n",
    "    print(\"\\nRandom Forest obteve um desempenho melhor.\")\n",
    "elif accuracy2 == accuracy1 and precision2 > precision1:\n",
    "    print(\"\\nRandom Forest obteve um desempenho igual em acurácia, mas melhor em precisão.\")\n",
    "else:\n",
    "    print(\"\\nÁrvore de Decisão obteve um desempenho melhor ou igual.\")"
   ]
  },
  {
   "cell_type": "code",
   "execution_count": null,
   "metadata": {},
   "outputs": [],
   "source": [
    "# Contagem das previsões para cada classe\n",
    "contagem_predicoes_modelo1 = pd.Series(predictions1).value_counts()\n",
    "contagem_predicoes_modelo2 = pd.Series(predictions2).value_counts()\n",
    "\n",
    "# Exibição das contagens\n",
    "print(\"Contagem de previsões para Árvore de Decisão:\")\n",
    "print(contagem_predicoes_modelo1)\n",
    "\n",
    "print(\"\\nContagem de previsões para Random Forest:\")\n",
    "print(contagem_predicoes_modelo2)"
   ]
  },
  {
   "cell_type": "code",
   "execution_count": null,
   "metadata": {},
   "outputs": [],
   "source": [
    "# Estimativas na base de teste para os modelos\n",
    "predictions1 = model1.predict(X_teste)\n",
    "predictions2 = model2.predict(X_teste)\n"
   ]
  },
  {
   "cell_type": "code",
   "execution_count": null,
   "metadata": {},
   "outputs": [],
   "source": [
    "# Matrizes de Confusão\n",
    "conf_matrix1 = confusion_matrix(Y_teste, predictions1)\n",
    "conf_matrix2 = confusion_matrix(Y_teste, predictions2)\n",
    "\n",
    "# Exibição das matrizes de confusão\n",
    "print(\"Matriz de Confusão para Árvore de Decisão:\")\n",
    "print(conf_matrix1)\n",
    "\n",
    "print(\"\\nMatriz de Confusão para Random Forest:\")\n",
    "print(conf_matrix2)"
   ]
  }
 ],
 "metadata": {
  "language_info": {
   "name": "python"
  }
 },
 "nbformat": 4,
 "nbformat_minor": 2
}
