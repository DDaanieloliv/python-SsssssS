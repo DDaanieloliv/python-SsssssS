{
 "cells": [
  {
   "cell_type": "code",
   "execution_count": null,
   "metadata": {},
   "outputs": [],
   "source": [
    "# Laboratório 01 - Detecção de Objetos"
   ]
  },
  {
   "cell_type": "markdown",
   "metadata": {},
   "source": [
    "- A depender do ambiente de execução, pode ser necessário instalar as dependências a seguir:\n",
    "\n",
    "```\n",
    "    %pip install transformers\n",
    "    %pip install matplotlib\n",
    "    %pip install inflect\n",
    "    %pip install torch torchvision torchaudio\n",
    "    %pip install timm\n",
    "```"
   ]
  },
  {
   "cell_type": "code",
   "execution_count": null,
   "metadata": {},
   "outputs": [],
   "source": [
    "# Se necessário, execute os comandos de instalaçao neste bloco de código\n",
    "# Talvez seja necessário reiniciar o kernel para encontrar as dependências"
   ]
  },
  {
   "cell_type": "markdown",
   "metadata": {},
   "source": [
    "O modelo utilizado neste laboratório foi publicado com o artigo [End-to-End Object Detection with Transformers](https://arxiv.org/abs/2005.12872) de Carion et al. (2020)"
   ]
  },
  {
   "cell_type": "code",
   "execution_count": null,
   "metadata": {},
   "outputs": [],
   "source": [
    "from transformers import pipeline"
   ]
  },
  {
   "cell_type": "markdown",
   "metadata": {},
   "source": [
    "Código auxiliar para ignorar alertas"
   ]
  },
  {
   "cell_type": "code",
   "execution_count": null,
   "metadata": {},
   "outputs": [],
   "source": [
    "from transformers.utils import logging\n",
    "logging.set_verbosity_error()"
   ]
  },
  {
   "cell_type": "markdown",
   "metadata": {},
   "source": [
    "Criando fluxo de deteção de objetos"
   ]
  },
  {
   "cell_type": "code",
   "execution_count": null,
   "metadata": {},
   "outputs": [],
   "source": [
    "od_pipe = pipeline(\"object-detection\", model=\"facebook/detr-resnet-50\")"
   ]
  },
  {
   "cell_type": "markdown",
   "metadata": {},
   "source": [
    "Mais sobre o modelo: [facebook/detr-resnet-50](https://huggingface.co/facebook/detr-resnet-50)\n",
    "\n",
    "Explore mais no [Hugging Face Hub para outros modelos](https://huggingface.co/models?pipeline_tag=object-detection&sort=trending)"
   ]
  },
  {
   "cell_type": "markdown",
   "metadata": {},
   "source": [
    "### Use o detector"
   ]
  },
  {
   "cell_type": "code",
   "execution_count": null,
   "metadata": {},
   "outputs": [],
   "source": [
    "from PIL import Image"
   ]
  },
  {
   "cell_type": "markdown",
   "metadata": {},
   "source": [
    "Abrindo a imagem"
   ]
  },
  {
   "cell_type": "code",
   "execution_count": null,
   "metadata": {},
   "outputs": [],
   "source": [
    "raw_image = Image.open('street.jpeg')"
   ]
  },
  {
   "cell_type": "code",
   "execution_count": null,
   "metadata": {},
   "outputs": [],
   "source": [
    "pipeline_output = od_pipe(raw_image)"
   ]
  },
  {
   "cell_type": "markdown",
   "metadata": {},
   "source": [
    "Retorna o resultado do pipeline usando a função auxiliar `render_results_in_image`."
   ]
  },
  {
   "cell_type": "code",
   "execution_count": null,
   "metadata": {},
   "outputs": [],
   "source": [
    "import io\n",
    "import matplotlib.pyplot as plt\n",
    "\n",
    "def render_results_in_image(in_pil_img, in_results):\n",
    "    plt.figure(figsize=(16, 10))\n",
    "    plt.imshow(in_pil_img)\n",
    "\n",
    "    ax = plt.gca()\n",
    "\n",
    "    for prediction in in_results:\n",
    "\n",
    "        x, y = prediction['box']['xmin'], prediction['box']['ymin']\n",
    "        w = prediction['box']['xmax'] - prediction['box']['xmin']\n",
    "        h = prediction['box']['ymax'] - prediction['box']['ymin']\n",
    "\n",
    "        ax.add_patch(plt.Rectangle((x, y),\n",
    "                                   w,\n",
    "                                   h,\n",
    "                                   fill=False,\n",
    "                                   color=\"green\",\n",
    "                                   linewidth=2))\n",
    "        ax.text(\n",
    "           x,\n",
    "           y,\n",
    "           f\"{prediction['label']}: {round(prediction['score']*100, 1)}%\",\n",
    "           color='red'\n",
    "        )\n",
    "\n",
    "    plt.axis(\"off\")\n",
    "\n",
    "    # Save the modified image to a BytesIO object\n",
    "    img_buf = io.BytesIO()\n",
    "    plt.savefig(img_buf, format='png',\n",
    "                bbox_inches='tight',\n",
    "                pad_inches=0)\n",
    "    img_buf.seek(0)\n",
    "    modified_image = Image.open(img_buf)\n",
    "\n",
    "    # Close the plot to prevent it from being displayed\n",
    "    plt.close()\n",
    "\n",
    "    return modified_image"
   ]
  },
  {
   "cell_type": "code",
   "execution_count": null,
   "metadata": {},
   "outputs": [],
   "source": [
    "processed_image = render_results_in_image(\n",
    "    raw_image,\n",
    "    pipeline_output)\n",
    "processed_image"
   ]
  },
  {
   "cell_type": "markdown",
   "metadata": {},
   "source": [
    "# Atividade de Laboratório\n",
    "\n",
    "Explore mais sobre o a saída do pipeline e o modelo de deteção\n",
    "- Que informação é retornada?\n",
    "- Como se comporta com outras imagens?\n",
    "- Quais aplicações possíveis? (mínimo de duas)\n",
    "\n"
   ]
  }
 ],
 "metadata": {
  "language_info": {
   "name": "python"
  }
 },
 "nbformat": 4,
 "nbformat_minor": 2
}
