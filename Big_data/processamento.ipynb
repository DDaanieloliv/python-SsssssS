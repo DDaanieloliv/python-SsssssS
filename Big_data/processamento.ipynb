{
 "cells": [
  {
   "cell_type": "markdown",
   "metadata": {},
   "source": [
    "# Objetivos: Preparação dos Dados\n",
    "\n",
    "3. Transformação de Dados\n",
    "4. Salvar CSV após o Processamento\n",
    "\n",
    "\n"
   ]
  },
  {
   "cell_type": "markdown",
   "metadata": {},
   "source": [
    "# Carregar base de dados e preparação\n",
    "\n",
    "O primeiro ponto antes de começar a trabalhar com dados é importar algumas bibliotecas:\n",
    "\n",
    "Começaremos importando a biblioteca pandas.\n",
    "\n",
    "O conjunto de dados inclui registros de terremotos relativos à Turquia e regiões vizinhas. Abrange exclusivamente terremotos que ocorrem no período que vai de setembro de 1994 a setembro de 2023, com magnitudes superiores a 3,0 na escala Richter."
   ]
  },
  {
   "cell_type": "code",
   "execution_count": null,
   "metadata": {},
   "outputs": [],
   "source": [
    "#Pandas: Utilizada para a preparação e operação dos dados em alta performance.\n",
    "import pandas as pd\n"
   ]
  },
  {
   "cell_type": "code",
   "execution_count": null,
   "metadata": {},
   "outputs": [],
   "source": [
    "from pandas.core.arrays.timedeltas import parse_timedelta_unit\n",
    "#Carregando os dados do CSV em um Dataframe Pandas\n",
    "dados_terremotos = pd.read_csv('terremotos.csv',sep=';', parse_dates=['Data'])\n",
    "\n",
    "#ver número de linhas e colunas\n",
    "dados_terremotos.shape"
   ]
  },
  {
   "cell_type": "code",
   "execution_count": null,
   "metadata": {},
   "outputs": [],
   "source": [
    "#Visualizando as primeiras linhas do Dataframe\n",
    "dados_terremotos.head()"
   ]
  },
  {
   "cell_type": "code",
   "execution_count": null,
   "metadata": {},
   "outputs": [],
   "source": [
    "#ver tipos de variáveis\n",
    "dados_terremotos.dtypes"
   ]
  },
  {
   "cell_type": "code",
   "execution_count": null,
   "metadata": {},
   "outputs": [],
   "source": [
    "#ver dados faltantes\n",
    "dados_terremotos.isnull().sum()"
   ]
  },
  {
   "cell_type": "markdown",
   "metadata": {},
   "source": [
    "# 3. Transformação de Dados\n",
    "\n",
    "Podemos realizar algumas transformações nos nossos dados:\n",
    "\n",
    "- Mudar representação\n",
    "- Trabalhar com Datas e Horários\n",
    "\n",
    "## 3.1. Mudar representação das variáveis\n",
    "\n",
    "Percebemos que a variável **Tipo** é de tipo categórica. Os valores estão representados por  palavras(classes), podemos representá-los como números.\n",
    "\n",
    "Para a variável **TIPO**, precisamos considerar a ordem na transformação para números.\n",
    "\n",
    "Importaremos LabelEncoder da biblioteca sklearn"
   ]
  },
  {
   "cell_type": "code",
   "execution_count": null,
   "metadata": {},
   "outputs": [],
   "source": [
    "dados_terremotos['Tipo'].value_counts()"
   ]
  },
  {
   "cell_type": "code",
   "execution_count": null,
   "metadata": {},
   "outputs": [],
   "source": [
    "from sklearn.preprocessing import LabelEncoder"
   ]
  },
  {
   "cell_type": "code",
   "execution_count": null,
   "metadata": {},
   "outputs": [],
   "source": [
    "labelencoder_inst = LabelEncoder()\n",
    "dados_terremotos.iloc[:, 5] = labelencoder_inst.fit_transform(dados_terremotos.iloc[:, 5])\n",
    "dados_terremotos.head()"
   ]
  },
  {
   "cell_type": "markdown",
   "metadata": {},
   "source": [
    "### Ao final, temos nossa base de dados tratada:"
   ]
  },
  {
   "cell_type": "code",
   "execution_count": null,
   "metadata": {},
   "outputs": [],
   "source": [
    "# Importa datetime\n",
    "import datetime\n",
    "\n",
    "dados_terremotos['Ano'] = dados_terremotos['Data'].dt.year\n",
    "dados_terremotos['Mes'] = dados_terremotos['Data'].dt.month"
   ]
  },
  {
   "cell_type": "code",
   "execution_count": null,
   "metadata": {},
   "outputs": [],
   "source": [
    "dados_terremotos['Hora_'] = pd.to_datetime(dados_terremotos['Hora'], format='%H:%M:%S.%f').dt.hour"
   ]
  },
  {
   "cell_type": "code",
   "execution_count": null,
   "metadata": {},
   "outputs": [],
   "source": [
    "dados_terremotos.head(5)"
   ]
  },
  {
   "cell_type": "markdown",
   "metadata": {},
   "source": [
    "# **4. Exportar dados em csv**"
   ]
  },
  {
   "cell_type": "code",
   "execution_count": null,
   "metadata": {},
   "outputs": [],
   "source": [
    "dados_terremotos.to_csv(\"dados_terremotos_preprocessados.csv\")"
   ]
  },
  {
   "cell_type": "markdown",
   "metadata": {},
   "source": [
    "#Objetivos: Análise Descritiva de Dados"
   ]
  },
  {
   "cell_type": "code",
   "execution_count": null,
   "metadata": {},
   "outputs": [],
   "source": [
    "# Verificar tipos de variáveis\n",
    "dados_terremotos.dtypes"
   ]
  },
  {
   "cell_type": "code",
   "execution_count": null,
   "metadata": {},
   "outputs": [],
   "source": [
    "# Mostrando o numero de dados faltantes em cada coluna (Tabela não possui dados faltantes)\n",
    "dados_terremotos.isnull().sum()"
   ]
  },
  {
   "cell_type": "markdown",
   "metadata": {},
   "source": [
    "# Medidas estatísticas para dados numéricos: Fase inicial de entender os dados.\n",
    "\n",
    "*   Resumem informações sobre os dados\n",
    "*   Informam sobre tendências\n",
    "*   Utiliza a estatística descritiva\n",
    "\n",
    "Alguma importantes para analisar:\n",
    "\n",
    "1.   Média, mediana\n",
    "2.   Desvio padrão (variabilidade/dispersão)\n",
    "3.   Mínimo e Máximo (menor e maior valor)"
   ]
  },
  {
   "cell_type": "code",
   "execution_count": null,
   "metadata": {},
   "outputs": [],
   "source": [
    "# Mostrar algumas medidas estatisticas/descritivas da base de dados (Apenas dados numéricos)\n",
    "\n",
    "dados_terremotos[[\"Profundidade(km)\", \"Magnitude\"]].describe()"
   ]
  },
  {
   "cell_type": "markdown",
   "metadata": {},
   "source": [
    "## 1. Algumas visualizações para variáveis NUMÉRICAS\n",
    "\n",
    "Bibliotecas para visualização de dados:"
   ]
  },
  {
   "cell_type": "code",
   "execution_count": null,
   "metadata": {},
   "outputs": [],
   "source": [
    "# Importar matplotlib.\n",
    "import matplotlib.pyplot as plt\n",
    "# Importar seaborn.\n",
    "import seaborn as sns"
   ]
  },
  {
   "cell_type": "code",
   "execution_count": null,
   "metadata": {},
   "outputs": [],
   "source": [
    "# Histograma para aas variaveis numéricas.\n",
    "\n",
    "dados_terremotos['Magnitude'].hist(figsize=(7,4))\n",
    "plt.show()"
   ]
  },
  {
   "cell_type": "code",
   "execution_count": null,
   "metadata": {},
   "outputs": [],
   "source": [
    "plt.boxplot(dados_terremotos['Profundidade(km)'])\n",
    "plt.show()"
   ]
  },
  {
   "cell_type": "code",
   "execution_count": null,
   "metadata": {},
   "outputs": [],
   "source": [
    "# Plotando dispersão de dados = relacionando duas variáveis numéricas.\n",
    "plt.figure(figsize = (7,4))\n",
    "plt.scatter(\n",
    "    dados_terremotos['Profundidade(km)'],\n",
    "    dados_terremotos['Magnitude'],\n",
    "    c='blue')\n",
    "\n",
    "plt.xlabel(\"Profundidade\")\n",
    "plt.ylabel(\"Magnitude\")\n",
    "plt.show()"
   ]
  },
  {
   "cell_type": "markdown",
   "metadata": {},
   "source": [
    "## 2. Algumas visualizações para variáveis CATEGÓRICAS (ordinal ou nominal)"
   ]
  },
  {
   "cell_type": "code",
   "execution_count": null,
   "metadata": {},
   "outputs": [],
   "source": [
    "# Verifcando categorias ou classes\n",
    "classes_tipos_terremotos = dados_terremotos['Tipo'].value_counts()\n",
    "print(classes_tipos_terremotos)"
   ]
  },
  {
   "cell_type": "code",
   "execution_count": null,
   "metadata": {},
   "outputs": [],
   "source": [
    "# Construindo o gráfico de fatias com matplotlib\n",
    "\n",
    "nome_classes = ['Ke','Sm']\n",
    "quantidade_classes = [49886,114]\n",
    "fig = plt.figure(figsize =(7, 7))\n",
    "plt.pie(quantidade_classes, labels = nome_classes, autopct='%1.2f%%')\n",
    "plt.show()"
   ]
  },
  {
   "cell_type": "code",
   "execution_count": null,
   "metadata": {},
   "outputs": [],
   "source": [
    "# Gráfico de barras com seaborn\n",
    "sns.countplot(x='Tipo', data=dados_terremotos)\n",
    "plt.show()"
   ]
  },
  {
   "cell_type": "code",
   "execution_count": null,
   "metadata": {},
   "outputs": [],
   "source": [
    "# Gráfico de barras com seaborn\n",
    "fig = plt.figure(figsize=(15,6))\n",
    "sns.countplot(x='Ano', data=dados_terremotos)\n",
    "plt.show()"
   ]
  },
  {
   "cell_type": "code",
   "execution_count": null,
   "metadata": {},
   "outputs": [],
   "source": [
    "# Gráfico de barras com seaborn\n",
    "fig = plt.figure(figsize=(15,6))\n",
    "sns.countplot(x='Ano', data=dados_terremotos, order = dados_terremotos[\"Ano\"].value_counts().index)\n",
    "plt.show()"
   ]
  },
  {
   "cell_type": "code",
   "execution_count": null,
   "metadata": {},
   "outputs": [],
   "source": [
    "# Gráfico de barras com seaborn\n",
    "sns.countplot(x='Hora_', data=dados_terremotos)\n",
    "plt.show()"
   ]
  },
  {
   "cell_type": "markdown",
   "metadata": {},
   "source": [
    "## 3. Algumas visualizações relacionam variáveis NUMÉRICAS e CATEGÓRICAS:"
   ]
  },
  {
   "cell_type": "code",
   "execution_count": null,
   "metadata": {},
   "outputs": [],
   "source": [
    "# Grafico gerado entre magnitide, profundidade e tipo do terremoto.\n",
    "sns.relplot(\n",
    "    data=dados_terremotos,\n",
    "    x=\"Profundidade(km)\", y=\"Magnitude\", hue=\"Ano\", palette=\"rocket_r\")\n",
    "plt.show()"
   ]
  },
  {
   "cell_type": "code",
   "execution_count": null,
   "metadata": {},
   "outputs": [],
   "source": [
    "# Plotar o boxplot de uma variável em relação as classes com seaborn.\n",
    "\n",
    "plt.subplots( figsize=(8, 6))\n",
    "sns.boxplot(x='Tipo', y='Magnitude', data=dados_terremotos)\n",
    "plt.show()"
   ]
  },
  {
   "cell_type": "code",
   "execution_count": null,
   "metadata": {},
   "outputs": [],
   "source": [
    "dados_terremotos['Profundidade(km)'].hist(figsize=(7,4))\n",
    "plt.show()"
   ]
  },
  {
   "cell_type": "code",
   "execution_count": null,
   "metadata": {},
   "outputs": [],
   "source": [
    "plt.boxplot(dados_terremotos['Profundidade(km)'])\n",
    "plt.show()"
   ]
  },
  {
   "cell_type": "code",
   "execution_count": null,
   "metadata": {},
   "outputs": [],
   "source": [
    "plt.boxplot(dados_terremotos['Magnitude'])\n",
    "plt.show()"
   ]
  },
  {
   "cell_type": "code",
   "execution_count": null,
   "metadata": {},
   "outputs": [],
   "source": [
    "# Plotando dispersão de dados = relacionando duas variáveis numéricas.\n",
    "plt.figure(figsize = (7,4))\n",
    "plt.scatter(\n",
    "    dados_terremotos['Profundidade(km)'],\n",
    "    dados_terremotos['Magnitude'],\n",
    "    c='red')\n",
    "\n",
    "plt.xlabel(\"Profundidade\")\n",
    "plt.ylabel(\"Magnitude\")\n",
    "plt.show()"
   ]
  },
  {
   "cell_type": "markdown",
   "metadata": {},
   "source": [
    "## 2. Algumas visualizações para variáveis CATEGÓRICAS (ordinal ou nominal)"
   ]
  },
  {
   "cell_type": "code",
   "execution_count": null,
   "metadata": {},
   "outputs": [],
   "source": [
    "# Verifcando categorias ou classes\n",
    "classes_tipos_terremotos = dados_terremotos['Ano'].value_counts()\n",
    "print(classes_tipos_terremotos)"
   ]
  },
  {
   "cell_type": "code",
   "execution_count": null,
   "metadata": {},
   "outputs": [],
   "source": [
    "# Verifcando categorias ou classes\n",
    "classes_tipos_terremotos = dados_terremotos['Mes'].value_counts()\n",
    "print(classes_tipos_terremotos)"
   ]
  },
  {
   "cell_type": "code",
   "execution_count": null,
   "metadata": {},
   "outputs": [],
   "source": [
    "# Verifcando categorias ou classes\n",
    "classes_tipos_terremotos = dados_terremotos['Ano'].value_counts()\n",
    "print(classes_tipos_terremotos)"
   ]
  },
  {
   "cell_type": "markdown",
   "metadata": {},
   "source": [
    "# Verifcando categorias ou classes\n",
    "classes_tipos_terremotos = dados_terremotos['Ano'].value_counts()\n",
    "print(classes_tipos_terremotos)"
   ]
  },
  {
   "cell_type": "code",
   "execution_count": null,
   "metadata": {},
   "outputs": [],
   "source": [
    "# Verifcando categorias ou classes por ANO\n",
    "nova_base_ano_2022 = dados_terremotos[dados_terremotos['Ano'] == 2022]\n",
    "nova_base_ano_2022.head()"
   ]
  },
  {
   "cell_type": "code",
   "execution_count": null,
   "metadata": {},
   "outputs": [],
   "source": [
    "# Verifcando categorias ou classes\n",
    "classes = nova_base_ano_2022['Mes'].value_counts()\n",
    "print(classes)"
   ]
  },
  {
   "cell_type": "code",
   "execution_count": null,
   "metadata": {},
   "outputs": [],
   "source": [
    "# Verifcando categorias ou classes\n",
    "classes_tipos_terremotos = dados_terremotos['Tipo'].value_counts()\n",
    "print(classes_tipos_terremotos)"
   ]
  },
  {
   "cell_type": "code",
   "execution_count": null,
   "metadata": {},
   "outputs": [],
   "source": [
    "# Construindo o gráfico de fatias com matplotlib\n",
    "\n",
    "nome_classes = ['Ke','Sm']\n",
    "quantidade_classes = [49886,114]\n",
    "fig = plt.figure(figsize =(7, 7))\n",
    "plt.pie(quantidade_classes, labels = nome_classes, autopct='%1.2f%%')\n",
    "plt.show()"
   ]
  },
  {
   "cell_type": "code",
   "execution_count": null,
   "metadata": {},
   "outputs": [],
   "source": [
    "# Gráfico de barras com seaborn\n",
    "sns.countplot(x='Tipo', data=dados_terremotos)\n",
    "plt.show()"
   ]
  },
  {
   "cell_type": "code",
   "execution_count": null,
   "metadata": {},
   "outputs": [],
   "source": [
    "# Gráfico de barras com seaborn\n",
    "fig = plt.figure(figsize=(15,6))\n",
    "sns.countplot(x='Ano', data=dados_terremotos)\n",
    "plt.show()"
   ]
  },
  {
   "cell_type": "code",
   "execution_count": null,
   "metadata": {},
   "outputs": [],
   "source": [
    "# Gráfico de barras com seaborn\n",
    "fig = plt.figure(figsize=(15,6))\n",
    "sns.countplot(x='Ano', data=dados_terremotos, order = dados_terremotos[\"Ano\"].value_counts().index)\n",
    "plt.show()"
   ]
  },
  {
   "cell_type": "code",
   "execution_count": null,
   "metadata": {},
   "outputs": [],
   "source": [
    "# Gráfico de barras com seaborn\n",
    "sns.countplot(x='Hora_', data=nova_base_ano_2022)\n",
    "plt.show()"
   ]
  },
  {
   "cell_type": "markdown",
   "metadata": {},
   "source": [
    "## 3. Algumas visualizações relacionam variáveis NUMÉRICAS e CATEGÓRICAS:"
   ]
  },
  {
   "cell_type": "code",
   "execution_count": null,
   "metadata": {},
   "outputs": [],
   "source": [
    "# Grafico gerado entre magnitide, profundidade e tipo do terremoto.\n",
    "sns.relplot(\n",
    "    data=nova_base_ano_2022,\n",
    "    x=\"Profundidade(km)\", y=\"Magnitude\", hue=\"Mes\", palette=\"rocket_r\")\n",
    "plt.show()"
   ]
  },
  {
   "cell_type": "code",
   "execution_count": null,
   "metadata": {},
   "outputs": [],
   "source": [
    "# Plotar o boxplot de uma variável em relação as classes com seaborn.\n",
    "\n",
    "plt.subplots( figsize=(8, 6))\n",
    "sns.boxplot(x='Tipo', y='Magnitude', data=dados_terremotos)\n",
    "plt.show()"
   ]
  },
  {
   "cell_type": "code",
   "execution_count": null,
   "metadata": {},
   "outputs": [],
   "source": [
    "# Plotar o boxplot de uma variável em relação as classes com seaborn.\n",
    "\n",
    "plt.subplots( figsize=(8, 6))\n",
    "sns.boxplot(x='Mes', y='Magnitude', data=dados_terremotos)\n",
    "plt.show()"
   ]
  }
 ],
 "metadata": {
  "language_info": {
   "name": "python"
  }
 },
 "nbformat": 4,
 "nbformat_minor": 2
}
