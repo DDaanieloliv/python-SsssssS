{
 "cells": [
  {
   "cell_type": "markdown",
   "metadata": {},
   "source": [
    "# Objetivos: Preparação dos Dados\n",
    "\n",
    "1. Seleção e Amostragem\n",
    "2. Dados Ausentes\n",
    "\n",
    "\n"
   ]
  },
  {
   "cell_type": "markdown",
   "metadata": {},
   "source": [
    "# Carregar base de dados e preparação\n",
    "\n",
    "O primeiro ponto antes de começar a trabalhar com dados é importar algumas bibliotecas:\n",
    "\n",
    "Começaremos importando a biblioteca pandas."
   ]
  },
  {
   "cell_type": "code",
   "execution_count": null,
   "metadata": {},
   "outputs": [],
   "source": [
    "#Pandas: Utilizada para a preparação e operação dos dados em alta performance.\n",
    "import pandas as pd\n"
   ]
  },
  {
   "cell_type": "code",
   "execution_count": null,
   "metadata": {},
   "outputs": [],
   "source": [
    "#Carregando os dados do CSV em um Dataframe Pandas\n",
    "dados_funcionarios = pd.read_csv('Base de Dados Funcionários.csv',sep=';')\n",
    "\n",
    "#ver número de linhas e colunas\n",
    "dados_funcionarios.shape"
   ]
  },
  {
   "cell_type": "code",
   "execution_count": null,
   "metadata": {},
   "outputs": [],
   "source": [
    "#Visualizando as primeiras linhas do Dataframe\n",
    "dados_funcionarios.head()"
   ]
  },
  {
   "cell_type": "code",
   "execution_count": null,
   "metadata": {},
   "outputs": [],
   "source": [
    "#ver tipos de variáveis\n",
    "dados_funcionarios.dtypes"
   ]
  },
  {
   "cell_type": "markdown",
   "metadata": {},
   "source": [
    "# 1. Seleção de dados\n",
    "\n",
    "- Selecionando colunas importantes\n",
    "- Filtrando por classes\n",
    "\n",
    "## 1.1. Selecionando colunas importantes\n",
    "\n",
    "Podemos selecionar nossos dados, removendo as variáveis que não são importantes."
   ]
  },
  {
   "cell_type": "code",
   "execution_count": null,
   "metadata": {},
   "outputs": [],
   "source": [
    "#Excluir colunas desnecessárias para o estudo\n",
    "\n",
    "dados_funcionarios = dados_funcionarios.drop(columns=['Funcionario','Meses'])\n",
    "dados_funcionarios.head()"
   ]
  },
  {
   "cell_type": "code",
   "execution_count": null,
   "metadata": {},
   "outputs": [],
   "source": [
    "#Selecionar colunas importantes para o estudo\n",
    "\n",
    "dados_funcionarios2 = dados_funcionarios[[\"Idade\",\"Salario\"]]\n",
    "dados_funcionarios2.head()"
   ]
  },
  {
   "cell_type": "code",
   "execution_count": null,
   "metadata": {},
   "outputs": [],
   "source": [
    "dados_funcionarios[[\"Inst\",\"Regiao\"]].describe()"
   ]
  },
  {
   "cell_type": "code",
   "execution_count": null,
   "metadata": {},
   "outputs": [],
   "source": [
    "dados_funcionarios[[\"Idade\",\"Salario\"]].describe()"
   ]
  },
  {
   "cell_type": "markdown",
   "metadata": {},
   "source": [
    "## 1.2. Filtrando por classes\n",
    "\n",
    "Imagine que queremos analisar apenas os funcionários solteiros.\n",
    "\n",
    "Para isso, precisamos selecionar (filtrar) apenas os registros com essa informação na coluna Estcivil."
   ]
  },
  {
   "cell_type": "code",
   "execution_count": null,
   "metadata": {},
   "outputs": [],
   "source": [
    "filtro  = dados_funcionarios['Est.civil'] == 'solteiro'\n",
    "dados_funcionarios_solteiros = dados_funcionarios[filtro]\n",
    "\n",
    "dados_funcionarios_solteiros.shape"
   ]
  },
  {
   "cell_type": "code",
   "execution_count": null,
   "metadata": {},
   "outputs": [],
   "source": [
    "dados_funcionarios_solteiros.head(36)"
   ]
  },
  {
   "cell_type": "markdown",
   "metadata": {},
   "source": [
    "# 2. Dados Ausentes\n",
    "\n"
   ]
  },
  {
   "cell_type": "code",
   "execution_count": null,
   "metadata": {},
   "outputs": [],
   "source": [
    "#Imprimindo o numero de dados faltantes em casa coluna da tabela:\n",
    "dados_funcionarios.isnull().sum()"
   ]
  },
  {
   "cell_type": "markdown",
   "metadata": {},
   "source": [
    "Identificando dados ausentes, precisamos utilizar estratégias para resolver essa questão. Precisaremos importar algumas bibliotecas:\n",
    "\n",
    "\n",
    "\n",
    "*   numpy: Para trabalhar de forma eficaz com vetores e matrizes aĺém de facilitar alguns cálculos matemáticos\n",
    "*   sklearn: Podemos tratar estes dados faltantes utilizando a classe SimpleImputer da biblioteca sklearn.impute\n"
   ]
  },
  {
   "cell_type": "code",
   "execution_count": null,
   "metadata": {},
   "outputs": [],
   "source": [
    "import numpy as np   # me referindo como \"np\"\n",
    "from sklearn.impute import SimpleImputer"
   ]
  },
  {
   "cell_type": "markdown",
   "metadata": {},
   "source": [
    "Vimos que para tratar dados faltantes temo 2 estratégias de acordo com a importância da variável e o impaco dos valores falantes:\n",
    "\n",
    "- Imputação de Dados  (variável importante)\n",
    "- Remoção de Dados  (variável não exerce influência no estudo)\n",
    "\n",
    "Farei uma cópia da base \"dados_funcionarios\" para realizar algumas transformações:"
   ]
  },
  {
   "cell_type": "code",
   "execution_count": null,
   "metadata": {},
   "outputs": [],
   "source": [
    "# fazer desta forma a cópia (comando copy())\n",
    "\n",
    "base_exemplo1 = dados_funcionarios.copy()\n",
    "base_exemplo1.shape\n",
    "base_exemplo1.head(36)"
   ]
  },
  {
   "cell_type": "markdown",
   "metadata": {},
   "source": [
    "## 2.1. Imputação de Dados\n",
    "\n",
    "Podemos utilizar estratégias como:\n",
    "- estimativa de valores\n",
    "- média, mediana, moda\n",
    "\n",
    "No nosso exemplo, a variável com dados faltantes é Filhos (quantitativa)."
   ]
  },
  {
   "cell_type": "code",
   "execution_count": null,
   "metadata": {},
   "outputs": [],
   "source": [
    "imputer = SimpleImputer(missing_values=np.nan, strategy='median')"
   ]
  },
  {
   "cell_type": "code",
   "execution_count": null,
   "metadata": {},
   "outputs": [],
   "source": [
    "imputer.fit(base_exemplo1.iloc[:, 2:3])\n",
    "base_exemplo1.sample(3)"
   ]
  },
  {
   "cell_type": "code",
   "execution_count": null,
   "metadata": {},
   "outputs": [],
   "source": [
    "base_exemplo1.iloc[:,2:3] = imputer.transform(base_exemplo1.iloc[:, 2:3])\n",
    "base_exemplo1.head()"
   ]
  },
  {
   "cell_type": "markdown",
   "metadata": {},
   "source": [
    "Se identificarmos que um valor ausente representa valor '0' para uma variável de contagem,  podemos atribuir o valor 0."
   ]
  },
  {
   "cell_type": "code",
   "execution_count": null,
   "metadata": {},
   "outputs": [],
   "source": [
    "base_exemplo2 = dados_funcionarios.copy()\n",
    "\n",
    "base_exemplo2['Filhos'] = base_exemplo2['Filhos'].fillna(0)\n",
    "base_exemplo2.head()\n"
   ]
  },
  {
   "cell_type": "code",
   "execution_count": null,
   "metadata": {},
   "outputs": [],
   "source": [
    "#Podemos ainda preencher cada coluna com o valor que melhor satisfazer:\n",
    "values = {'Filhos': 5}\n",
    "base_exemplo1.fillna(value=values)"
   ]
  },
  {
   "cell_type": "markdown",
   "metadata": {},
   "source": [
    "## 2.2. Remoção de Dados\n",
    "\n",
    "Podemos utilizar estratégias como:\n",
    "- Excluir linhas (poucas ocorrências)\n",
    "- Excluir colunas (mais de 60% de dados faltante / variável pouco significativa)"
   ]
  },
  {
   "cell_type": "code",
   "execution_count": null,
   "metadata": {},
   "outputs": [],
   "source": [
    "base_exemplo3 = dados_funcionarios.copy()\n",
    "print(base_exemplo3)"
   ]
  },
  {
   "cell_type": "code",
   "execution_count": null,
   "metadata": {},
   "outputs": [],
   "source": [
    "#Excluir todas as linhas com valores ausentes    axis = 0 (linhas) axis = 1 (colunas)\n",
    "base_exemplo3.dropna(axis=0, inplace=True)\n",
    "print(base_exemplo3)\n"
   ]
  },
  {
   "cell_type": "code",
   "execution_count": null,
   "metadata": {},
   "outputs": [],
   "source": [
    "base_exemplo3.shape"
   ]
  },
  {
   "cell_type": "code",
   "execution_count": null,
   "metadata": {},
   "outputs": [],
   "source": [
    "\n",
    "#Excluir coluna com valor ausente na nossa base original\n",
    "dados_funcionarios.dropna(axis=1, inplace=True)\n",
    "dados_funcionarios.head()"
   ]
  },
  {
   "cell_type": "markdown",
   "metadata": {},
   "source": [
    "# Ao final, temos nossa base de dados tratada:"
   ]
  },
  {
   "cell_type": "code",
   "execution_count": null,
   "metadata": {},
   "outputs": [],
   "source": [
    "print(dados_funcionarios)"
   ]
  }
 ],
 "metadata": {
  "language_info": {
   "name": "python"
  }
 },
 "nbformat": 4,
 "nbformat_minor": 2
}
